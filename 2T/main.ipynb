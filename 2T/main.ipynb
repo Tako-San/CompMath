{
 "cells": [
  {
   "cell_type": "markdown",
   "source": [
    "# Вычислительная математика. Домашняя лабораторная работа №2.\n",
    "### Выполнил: Хайдари Фарид, группа Б01-909."
   ],
   "metadata": {}
  },
  {
   "cell_type": "markdown",
   "source": [
    "## Подготовка среды"
   ],
   "metadata": {}
  },
  {
   "cell_type": "code",
   "execution_count": 173,
   "source": [
    "# Включаем все необходимые библиотеки\n",
    "import numpy as np\n",
    "\n",
    "# Задаем глобальные константы\n",
    "SIZE = 49\n",
    "EPS = 1e-12"
   ],
   "outputs": [],
   "metadata": {}
  },
  {
   "cell_type": "markdown",
   "source": [
    "## Функция для заполнения матрицы"
   ],
   "metadata": {}
  },
  {
   "cell_type": "code",
   "execution_count": 164,
   "source": [
    "def initA(n: int, calc_a, calc_b, calc_c, calc_p):\n",
    "  A = np.zeros((n + 1, n + 1))\n",
    "\n",
    "  # Прописываем первую строчку\n",
    "  A[0][0] = calc_b(0)\n",
    "  A[0][1] = calc_c(0)\n",
    "\n",
    "  # Идем по диагонали\n",
    "  for i in range(1, n):\n",
    "    A[i][i-1] = calc_a(i)\n",
    "    A[i][i]   = calc_b(i)\n",
    "    A[i][i+1] = calc_c(i)\n",
    "\n",
    "  # Идем по последней строчке:\n",
    "  for i in range(n + 1):\n",
    "    A[-1][i] = calc_p(i)\n",
    "\n",
    "  return A\n"
   ],
   "outputs": [],
   "metadata": {}
  },
  {
   "cell_type": "markdown",
   "source": [
    "## Функции для вычисления нормы матрицы и вектора"
   ],
   "metadata": {}
  },
  {
   "cell_type": "code",
   "execution_count": 165,
   "source": [
    "def calcNorm1(mx):\n",
    "  maxSum = 0\n",
    "  rowNum, colNum = mx.shape\n",
    "  for j in range(colNum):\n",
    "    sum = 0\n",
    "    for i in range(rowNum):\n",
    "      sum += abs(mx[i][j])\n",
    "    maxSum = max(sum, maxSum)\n",
    "  return maxSum\n",
    "\n",
    "def calcNorm2(mx):\n",
    "  rowNum, colNum = mx.shape\n",
    "  maxSum = 0\n",
    "  for i in range(rowNum):\n",
    "    maxSum = max(sum(abs(mx[i])), maxSum)\n",
    "  return maxSum\n",
    "\n",
    "def calcNorm3(mx):\n",
    "  return np.sqrt(max(abs(np.linalg.eigvals(np.dot(mx, mx.transpose())))))\n",
    "\n",
    "\n",
    "def calcVecNorm1(vec):\n",
    "  return max(abs(vec))[0]\n",
    "\n",
    "def calcVecNorm2(vec):\n",
    "  return sum(abs(vec))[0]\n",
    "\n",
    "def calcVecNorm3(vec):\n",
    "  return np.sqrt(sum(abs(vec)**2))[0]"
   ],
   "outputs": [],
   "metadata": {}
  },
  {
   "cell_type": "markdown",
   "source": [
    "## Определяем методы для прямого метода Гаусса"
   ],
   "metadata": {}
  },
  {
   "cell_type": "code",
   "execution_count": 166,
   "source": [
    "def mainElemIdx(mx, idx):\n",
    "  main_elem = mx[idx][idx]\n",
    "  main_idx = idx\n",
    "\n",
    "  for i in range(idx, len(mx)):\n",
    "    if (mx[i][idx] > main_elem):\n",
    "      main_elem = mx[i][idx]\n",
    "      main_idx = i\n",
    "\n",
    "  return main_idx\n",
    "\n",
    "def forwardGauss(mx):\n",
    "  rowNum = len(mx)\n",
    "  iterEnd = min(rowNum, len(mx[0]))\n",
    "\n",
    "  for i in range(iterEnd):\n",
    "    mainIdx = mainElemIdx(mx, i) # Найти главный элемент\n",
    "    mx[[mainIdx, i]] = mx[[mainIdx, i]] # Поменять строки матрицы\n",
    "    for j in range(i + 1, rowNum):\n",
    "      mx[j] -= mx[j][i] / mx[i][i] * mx[i] # Вычесть строку с главным элементом\n",
    "\n",
    "  return mx\n",
    "\n",
    "def backwardGauss(mx):\n",
    "  rowNum, colNum = mx.shape\n",
    "  assert rowNum <= colNum\n",
    "\n",
    "  ans = np.zeros((colNum - 1, 1))\n",
    "  for i in range(rowNum - 1, -1, -1):\n",
    "    sum = 0\n",
    "    for j in range(i + 1, colNum - 1):\n",
    "      sum += mx[i][j] * ans[j][0]\n",
    "    ans[i][0] = (mx[i][rowNum] - sum) / mx[i][i]\n",
    "\n",
    "  return ans\n"
   ],
   "outputs": [],
   "metadata": {}
  },
  {
   "cell_type": "markdown",
   "source": [
    "## Определяем функции для итерационного метода Зейделя"
   ],
   "metadata": {}
  },
  {
   "cell_type": "code",
   "execution_count": 167,
   "source": [
    "def getDLU(mx):\n",
    "  rowNum, colNum = mx.shape\n",
    "  # assert rowNum == colNum\n",
    "  sz = rowNum\n",
    "\n",
    "  D = np.zeros((sz, sz))\n",
    "  U = np.zeros((sz, sz))\n",
    "  L = np.zeros((sz, sz))\n",
    "\n",
    "  for i in range(sz):\n",
    "    for j in range(sz):\n",
    "      if i == j:\n",
    "        D[i][j] = A[i][j]\n",
    "      elif i > j:\n",
    "        L[i][j] = A[i][j]\n",
    "      else:\n",
    "        U[i][j] = A[i][j]\n",
    "  \n",
    "  return D, L, U\n",
    "\n",
    "def runZeidel(mx, accuracy, calcNorm):\n",
    "  done = False\n",
    "  iterNum = 0\n",
    "  x = np.zeros((len(mx), 1))\n",
    "\n",
    "  D, L, U = getDLU(mx)\n",
    "  LpDinv = np.linalg.inv(L + D)\n",
    "  LpDinvU = np.dot(LpDinv, U)\n",
    "\n",
    "  while not done:\n",
    "    iterNum += 1\n",
    "    newX = -np.dot(LpDinvU, x) + np.dot(LpDinv, f)\n",
    "    done = calcNorm(newX - x) < accuracy\n",
    "    x = newX\n",
    "\n",
    "  return x, iterNum\n"
   ],
   "outputs": [],
   "metadata": {}
  },
  {
   "cell_type": "markdown",
   "source": [
    "## Инициализируем матрицу системы, вектор правых частей и расширенную матрицу системы"
   ],
   "metadata": {}
  },
  {
   "cell_type": "code",
   "execution_count": 169,
   "source": [
    "ret_one = lambda i: 1\n",
    "A = initA(SIZE, ret_one, lambda i: 5, ret_one, ret_one) # Матрица системы\n",
    "f = np.transpose([np.arange(1, SIZE + 2)]) # Вектор правых частей\n",
    "\n",
    "expandedA = np.concatenate((A, f), axis=1) # Получаем расширенную матрицу системы\n",
    "\n",
    "print(A)\n",
    "print('')\n",
    "print(np.transpose(f))\n",
    "print('')\n",
    "print(expandedA)"
   ],
   "outputs": [
    {
     "output_type": "stream",
     "name": "stdout",
     "text": [
      "[[5. 1. 0. ... 0. 0. 0.]\n",
      " [1. 5. 1. ... 0. 0. 0.]\n",
      " [0. 1. 5. ... 0. 0. 0.]\n",
      " ...\n",
      " [0. 0. 0. ... 5. 1. 0.]\n",
      " [0. 0. 0. ... 1. 5. 1.]\n",
      " [1. 1. 1. ... 1. 1. 1.]]\n",
      "\n",
      "[[ 1  2  3  4  5  6  7  8  9 10 11 12 13 14 15 16 17 18 19 20 21 22 23 24\n",
      "  25 26 27 28 29 30 31 32 33 34 35 36 37 38 39 40 41 42 43 44 45 46 47 48\n",
      "  49 50]]\n",
      "\n",
      "[[ 5.  1.  0. ...  0.  0.  1.]\n",
      " [ 1.  5.  1. ...  0.  0.  2.]\n",
      " [ 0.  1.  5. ...  0.  0.  3.]\n",
      " ...\n",
      " [ 0.  0.  0. ...  1.  0. 48.]\n",
      " [ 0.  0.  0. ...  5.  1. 49.]\n",
      " [ 1.  1.  1. ...  1.  1. 50.]]\n"
     ]
    }
   ],
   "metadata": {}
  },
  {
   "cell_type": "markdown",
   "source": [
    "## Получим число обусловленности для матрицы системы"
   ],
   "metadata": {}
  },
  {
   "cell_type": "code",
   "execution_count": 170,
   "source": [
    "AInv = np.linalg.inv(A)\n",
    "calcNorms = [calcNorm1, calcNorm2, calcNorm3]\n",
    "\n",
    "for idx, calcNorm in enumerate(calcNorms):\n",
    "  print(f'Число обусловленности матрицы A по норме {idx + 1}: {calcNorm(A) * calcNorm(AInv)}')"
   ],
   "outputs": [
    {
     "output_type": "stream",
     "name": "stdout",
     "text": [
      "Число обусловленности матрицы A по норме 1: 12.220201853215574\n",
      "Число обусловленности матрицы A по норме 2: 486.4664631877187\n",
      "Число обусловленности матрицы A по норме 3: 17.464946353215716\n"
     ]
    }
   ],
   "metadata": {}
  },
  {
   "cell_type": "markdown",
   "source": [
    "## Получаем невязку для метода Гаусса"
   ],
   "metadata": {}
  },
  {
   "cell_type": "code",
   "execution_count": 171,
   "source": [
    "ug = backwardGauss(forwardGauss(expandedA)) # Получаем ответ\n",
    "diffGauss = f - np.matmul(A, ug) # Вектор с ошибками\n",
    "\n",
    "normVals = [\n",
    "  calcVecNorm1(diffGauss), # Вычисляем невязку по второй норме\n",
    "  calcVecNorm2(diffGauss), # Вычисляем невязку по второй норме\n",
    "  calcVecNorm3(diffGauss)  # Вычисляем невязку по второй норме\n",
    "]\n",
    "\n",
    "for idx, normVal in enumerate(normVals):\n",
    "  print(f'Невязка метода Гаусса для нормы {idx + 1}: {normVal}')\n"
   ],
   "outputs": [
    {
     "output_type": "stream",
     "name": "stdout",
     "text": [
      "Невязка метода Гаусса для нормы 1: 7.105427357601002e-15\n",
      "Невязка метода Гаусса для нормы 2: 5.3290705182007514e-14\n",
      "Невязка метода Гаусса для нормы 3: 1.6604423698964792e-14\n"
     ]
    }
   ],
   "metadata": {}
  },
  {
   "cell_type": "markdown",
   "source": [
    "## Получаем невязку для метода Зейделя"
   ],
   "metadata": {}
  },
  {
   "cell_type": "code",
   "execution_count": 174,
   "source": [
    "vecNorms = [\n",
    "  calcNorm1,\n",
    "  calcNorm2,\n",
    "  calcNorm3\n",
    "]\n",
    "\n",
    "for idx, calcVecNorm in enumerate(vecNorms):\n",
    "  uz, iterNum = runZeidel(expandedA, EPS, calcVecNorm)\n",
    "  diffZeidel = f - np.matmul(A, uz)\n",
    "  print(f'Невязка метода Зейделя для нормы {idx + 1}: {calcNorm(diffZeidel)}, количество итераций: {iterNum}')"
   ],
   "outputs": [
    {
     "output_type": "stream",
     "name": "stdout",
     "text": [
      "Невязка метода Зейделя для нормы 1: 1.5407591776796986e-13, количество итераций: 25\n",
      "Невязка метода Зейделя для нормы 2: 5.494410184266636e-13, количество итераций: 24\n",
      "Невязка метода Зейделя для нормы 3: 5.494410184266636e-13, количество итераций: 24\n"
     ]
    }
   ],
   "metadata": {}
  }
 ],
 "metadata": {
  "orig_nbformat": 4,
  "language_info": {
   "name": "python",
   "version": "3.8.10",
   "mimetype": "text/x-python",
   "codemirror_mode": {
    "name": "ipython",
    "version": 3
   },
   "pygments_lexer": "ipython3",
   "nbconvert_exporter": "python",
   "file_extension": ".py"
  },
  "kernelspec": {
   "name": "python3",
   "display_name": "Python 3.8.10 64-bit"
  },
  "interpreter": {
   "hash": "31f2aee4e71d21fbe5cf8b01ff0e069b9275f58929596ceb00d14d90e3e16cd6"
  }
 },
 "nbformat": 4,
 "nbformat_minor": 2
}