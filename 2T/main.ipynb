{
 "cells": [
  {
   "cell_type": "markdown",
   "source": [
    "# Вычислительная математика. Домашняя лабораторная работа №2.\n",
    "### Выполнил: Хайдари Фарид, группа Б01-909."
   ],
   "metadata": {}
  },
  {
   "cell_type": "markdown",
   "source": [
    "## Подготовка среды"
   ],
   "metadata": {}
  },
  {
   "cell_type": "code",
   "execution_count": 48,
   "source": [
    "# Включаем все необходимые библиотеки\n",
    "import numpy as np"
   ],
   "outputs": [],
   "metadata": {}
  },
  {
   "cell_type": "code",
   "execution_count": 63,
   "source": [
    "# Задаем глобальные константы\n",
    "SIZE = 49"
   ],
   "outputs": [],
   "metadata": {}
  },
  {
   "cell_type": "markdown",
   "source": [
    "## Функция для заполнения матрицы"
   ],
   "metadata": {}
  },
  {
   "cell_type": "code",
   "execution_count": 64,
   "source": [
    "def initA(n: int, calc_a, calc_b, calc_c, calc_p):\n",
    "  A = np.zeros((n + 1, n + 1))\n",
    "\n",
    "  # Прописываем первую строчку\n",
    "  A[0][0] = calc_b(0)\n",
    "  A[0][1] = calc_c(0)\n",
    "\n",
    "  # Идем по диагонали\n",
    "  for i in range(1, n):\n",
    "    A[i][i-1] = calc_a(i)\n",
    "    A[i][i]   = calc_b(i)\n",
    "    A[i][i+1] = calc_c(i)\n",
    "\n",
    "  # Идем по последней строчке:\n",
    "  for i in range(n + 1):\n",
    "    A[-1][i] = calc_p(i)\n",
    "\n",
    "  return A\n"
   ],
   "outputs": [
    {
     "output_type": "execute_result",
     "data": {
      "text/plain": [
       "array([[5., 1., 0., ..., 0., 0., 0.],\n",
       "       [1., 5., 1., ..., 0., 0., 0.],\n",
       "       [0., 1., 5., ..., 0., 0., 0.],\n",
       "       ...,\n",
       "       [0., 0., 0., ..., 5., 1., 0.],\n",
       "       [0., 0., 0., ..., 1., 5., 1.],\n",
       "       [1., 1., 1., ..., 1., 1., 1.]])"
      ]
     },
     "metadata": {},
     "execution_count": 64
    }
   ],
   "metadata": {}
  },
  {
   "cell_type": "code",
   "execution_count": 71,
   "source": [
    "ret_one = lambda i: 1\n",
    "A = initA(SIZE, ret_one, lambda i: 5, ret_one, ret_one) # Матрица системы\n",
    "f = np.transpose([np.arange(1, SIZE + 2)]) # Вектор правых частей\n",
    "\n",
    "expandedA = np.concatenate((A, f), axis=1) # Получаем расширенную матрицу системы\n",
    "\n",
    "print(A)\n",
    "print('')\n",
    "print(np.transpose(f))\n",
    "print('')\n",
    "print(expandedA)"
   ],
   "outputs": [
    {
     "output_type": "stream",
     "name": "stdout",
     "text": [
      "[[5. 1. 0. ... 0. 0. 0.]\n",
      " [1. 5. 1. ... 0. 0. 0.]\n",
      " [0. 1. 5. ... 0. 0. 0.]\n",
      " ...\n",
      " [0. 0. 0. ... 5. 1. 0.]\n",
      " [0. 0. 0. ... 1. 5. 1.]\n",
      " [1. 1. 1. ... 1. 1. 1.]]\n",
      "\n",
      "[[ 1  2  3  4  5  6  7  8  9 10 11 12 13 14 15 16 17 18 19 20 21 22 23 24\n",
      "  25 26 27 28 29 30 31 32 33 34 35 36 37 38 39 40 41 42 43 44 45 46 47 48\n",
      "  49 50]]\n",
      "\n",
      "[[ 5.  1.  0. ...  0.  0.  1.]\n",
      " [ 1.  5.  1. ...  0.  0.  2.]\n",
      " [ 0.  1.  5. ...  0.  0.  3.]\n",
      " ...\n",
      " [ 0.  0.  0. ...  1.  0. 48.]\n",
      " [ 0.  0.  0. ...  5.  1. 49.]\n",
      " [ 1.  1.  1. ...  1.  1. 50.]]\n"
     ]
    }
   ],
   "metadata": {}
  },
  {
   "cell_type": "markdown",
   "source": [
    "## Определяем методы для прямого метода Гаусса"
   ],
   "metadata": {}
  },
  {
   "cell_type": "code",
   "execution_count": 72,
   "source": [
    "def mainElemIdx(mx, idx):\n",
    "  main_elem = mx[idx][idx]\n",
    "  main_idx = idx\n",
    "\n",
    "  for i in range(idx, len(mx)):\n",
    "    if (mx[i][idx] > main_elem):\n",
    "      main_elem = mx[i][idx]\n",
    "      main_idx = i\n",
    "  \n",
    "  return main_idx\n",
    "\n",
    "def forwardGauss(mx):\n",
    "  rowNum = len(mx)\n",
    "  iterEnd = min(rowNum, len(mx[0]))\n",
    "\n",
    "  for i in range(iterEnd):\n",
    "    mainIdx = mainElemIdx(mx, i) # Найти главный элемент\n",
    "    mx[[mainIdx, i]] = mx[[mainIdx, i]] # Поменять строки матрицы\n",
    "    for j in range(i + 1, rowNum):\n",
    "      mx[j] -= mx[j][i] / mx[i][i] * mx[i] # Вычесть строку с главным элементом\n",
    "\n",
    "  return mx\n",
    "\n",
    "def backwardGauss(mx):\n",
    "  rowNum = mx.shape[0]\n",
    "  colNum = mx.shape[1]\n",
    "\n",
    "  assert rowNum <= colNum\n",
    "\n",
    "  ans = np.zeros((colNum - 1, 1))\n",
    "  for i in range(rowNum - 1, -1, -1):\n",
    "    sum = 0\n",
    "    for j in range(i + 1, colNum - 1):\n",
    "      sum += mx[i][j] * ans[j][0]\n",
    "    ans[i][0] = (mx[i][rowNum] - sum) / mx[i][i]\n",
    "\n",
    "  return ans\n"
   ],
   "outputs": [],
   "metadata": {}
  },
  {
   "cell_type": "markdown",
   "source": [
    "## Получаем невязку для метода Гаусса"
   ],
   "metadata": {}
  },
  {
   "cell_type": "code",
   "execution_count": 73,
   "source": [
    "ans = backwardGauss(forwardGauss(expandedA)) # Получаем ответ\n",
    "diff = f - np.matmul(A, ans) # Вектор с ошибками\n",
    "\n",
    "norm = sum(abs(diff)) # Вычисляем невязку по второй норме\n",
    "print(norm)\n"
   ],
   "outputs": [
    {
     "output_type": "stream",
     "name": "stdout",
     "text": [
      "[5.32907052e-14]\n"
     ]
    }
   ],
   "metadata": {}
  }
 ],
 "metadata": {
  "orig_nbformat": 4,
  "language_info": {
   "name": "python",
   "version": "3.8.10",
   "mimetype": "text/x-python",
   "codemirror_mode": {
    "name": "ipython",
    "version": 3
   },
   "pygments_lexer": "ipython3",
   "nbconvert_exporter": "python",
   "file_extension": ".py"
  },
  "kernelspec": {
   "name": "python3",
   "display_name": "Python 3.8.10 64-bit"
  },
  "interpreter": {
   "hash": "31f2aee4e71d21fbe5cf8b01ff0e069b9275f58929596ceb00d14d90e3e16cd6"
  }
 },
 "nbformat": 4,
 "nbformat_minor": 2
}