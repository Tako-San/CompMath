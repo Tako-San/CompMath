{
 "cells": [
  {
   "cell_type": "markdown",
   "source": [
    "# Вычислительная математика. Домашняя лабораторная работа №2\n",
    "## Выполнил: Хайдари Фарид, группа Б01-909"
   ],
   "metadata": {}
  },
  {
   "cell_type": "code",
   "execution_count": 2,
   "source": [
    "# Включаем все необходимые библиотеки\n",
    "import numpy as np"
   ],
   "outputs": [],
   "metadata": {}
  },
  {
   "cell_type": "code",
   "execution_count": 25,
   "source": [
    "# Задаем глобальные константы\n",
    "SIZE = 5"
   ],
   "outputs": [],
   "metadata": {}
  },
  {
   "cell_type": "code",
   "execution_count": 28,
   "source": [
    "def initA(n: int, calc_a, calc_b, calc_c, calc_p):\n",
    "  A = np.zeros((n + 1, n + 1))\n",
    "\n",
    "  # Прописываем первую строчку\n",
    "  A[0][0] = calc_b(0)\n",
    "  A[0][1] = calc_c(0)\n",
    "\n",
    "  # Идем по диагонали\n",
    "  for i in range(1, n):\n",
    "    A[i][i-1] = calc_a(i)\n",
    "    A[i][i]   = calc_b(i)\n",
    "    A[i][i+1] = calc_c(i)\n",
    "\n",
    "  # Идем по последней строчке:\n",
    "  for i in range(n + 1):\n",
    "    A[-1][i] = calc_p(i)\n",
    "\n",
    "  return A\n",
    "\n",
    "ret_one = lambda i: 1\n",
    "A = initA(SIZE, ret_one, lambda i: 5, ret_one, ret_one)\n",
    "A\n"
   ],
   "outputs": [
    {
     "output_type": "execute_result",
     "data": {
      "text/plain": [
       "array([[5., 1., 0., 0., 0., 0.],\n",
       "       [1., 5., 1., 0., 0., 0.],\n",
       "       [0., 1., 5., 1., 0., 0.],\n",
       "       [0., 0., 1., 5., 1., 0.],\n",
       "       [0., 0., 0., 1., 5., 1.],\n",
       "       [1., 1., 1., 1., 1., 1.]])"
      ]
     },
     "metadata": {},
     "execution_count": 28
    }
   ],
   "metadata": {}
  }
 ],
 "metadata": {
  "orig_nbformat": 4,
  "language_info": {
   "name": "python",
   "version": "3.8.10",
   "mimetype": "text/x-python",
   "codemirror_mode": {
    "name": "ipython",
    "version": 3
   },
   "pygments_lexer": "ipython3",
   "nbconvert_exporter": "python",
   "file_extension": ".py"
  },
  "kernelspec": {
   "name": "python3",
   "display_name": "Python 3.8.10 64-bit"
  },
  "interpreter": {
   "hash": "31f2aee4e71d21fbe5cf8b01ff0e069b9275f58929596ceb00d14d90e3e16cd6"
  }
 },
 "nbformat": 4,
 "nbformat_minor": 2
}