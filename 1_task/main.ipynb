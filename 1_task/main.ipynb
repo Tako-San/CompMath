{
  "nbformat": 4,
  "nbformat_minor": 0,
  "metadata": {
    "colab": {
      "name": "Untitled",
      "provenance": [],
      "collapsed_sections": [],
      "authorship_tag": "ABX9TyOjm12gz1+bUFDGSPWuRvPp",
      "include_colab_link": true
    },
    "kernelspec": {
      "name": "python3",
      "display_name": "Python 3"
    },
    "language_info": {
      "name": "python"
    }
  },
  "cells": [
    {
      "cell_type": "markdown",
      "metadata": {
        "id": "view-in-github",
        "colab_type": "text"
      },
      "source": [
        "<a href=\"https://colab.research.google.com/github/Tako-San/CompMath/blob/main/1_task/main.ipynb\" target=\"_parent\"><img src=\"https://colab.research.google.com/assets/colab-badge.svg\" alt=\"Open In Colab\"/></a>"
      ]
    },
    {
      "cell_type": "markdown",
      "metadata": {
        "id": "HSS9lQeZ7Dhx"
      },
      "source": [
        "# Домашняя лабораторная работа №1 по вычислительной математике.\n"
      ]
    },
    {
      "cell_type": "markdown",
      "metadata": {
        "id": "jr1PTORxVopI"
      },
      "source": [
        "Включаем все необходимые библиотеки"
      ]
    },
    {
      "cell_type": "code",
      "metadata": {
        "id": "3uBntz-DCfj3"
      },
      "source": [
        "import numpy as np\n",
        "import sympy as sp\n",
        "import matplotlib.pyplot as plt"
      ],
      "execution_count": 2,
      "outputs": []
    },
    {
      "cell_type": "markdown",
      "metadata": {
        "id": "idK3r9VsVtvv"
      },
      "source": [
        "Определяем класс Method, который хранит функции погрешности метода и абсолютной погрешности, а также отрисовывает графики"
      ]
    },
    {
      "cell_type": "code",
      "metadata": {
        "id": "LQlCjxOL7NvZ"
      },
      "source": [
        "class Method:\n",
        "  # ctor\n",
        "  def __init__(self, method_err, round_err):\n",
        "    self.__method_err = method_err\n",
        "    self.__round_err = round_err\n",
        "    self.__abs_err = method_err + round_err\n",
        "  \n",
        "  # calculating absolute error in concrete value with concrete step\n",
        "  def calc_abs_err(self, func, hval, xval):\n",
        "    concrete_mr = sp.N(self.__method_err.subs([(f, func), (x, xval), (h, hval)]).doit())\n",
        "    concrete_rr = sp.N(self.__round_err.subs([(f, func), (x, xval), (h, hval)]).doit())\n",
        "    return float((concrete_mr + concrete_rr).evalf())\n",
        "  \n",
        "  # appending to plot\n",
        "  def plot_abs(self, func, xval):\n",
        "    n_arr = np.arange(1, 21)\n",
        "    h_arr = 2 / 2**n_arr\n",
        "\n",
        "    delta_arr = [self.calc_abs_err(func, hval, xval) for hval in h_arr]\n",
        "    delta_log2_arr = [np.log2(abs(delta)) for delta in delta_arr]\n",
        "\n",
        "    plt.plot(np.log2(h_arr), delta_log2_arr)\n",
        "    plt.xlabel(\"log2(h)\")\n",
        "    plt.ylabel(\"log2(delta)\")\n",
        "\n",
        "    \n"
      ],
      "execution_count": 16,
      "outputs": []
    },
    {
      "cell_type": "code",
      "metadata": {
        "id": "0MXGMxO2C8pQ"
      },
      "source": [
        "# init constants\n",
        "h, x = sp.symbols('h x')\n",
        "f = sp.Function('f')(x)\n",
        "eps = np.finfo(float).eps\n",
        "\n",
        "# create methods\n",
        "method_arr = [\n",
        "  Method(f.diff((x, 2)) * h / 2, 2 * eps / h),\n",
        "  Method(-f.diff((x, 2)) * h / 2, 2 * eps / h),\n",
        "  Method(f.diff((x, 3)) * h**2 / 6, eps / h),\n",
        "  Method(-f.diff((x, 5)) * h**4 / 30, 4 / 3 * eps / h + 1 / 3 * eps / (2 * h)),\n",
        "  Method(f.diff((x, 7)) * h**6  / 140, 1.5 * eps / h + 0.6 * eps / (2 * h) + 0.1 * eps / (3 * h))\n",
        "]\n",
        "\n"
      ],
      "execution_count": 17,
      "outputs": []
    },
    {
      "cell_type": "code",
      "metadata": {
        "id": "jtqIHESHlLEm"
      },
      "source": [
        "# fill functions array\n",
        "func_arr = [\n",
        "  sp.sin(x**2),\n",
        "  sp.cos(sp.sin(x)),\n",
        "  sp.exp(sp.sin(sp.cos(x))),\n",
        "  sp.ln(x + 3),\n",
        "  (x + 3)**0.5\n",
        "]\n",
        "\n",
        "# draw all funcs for one method\n",
        "def draw_all_funcs(idx):\n",
        "  for func in func_arr:\n",
        "    method_arr[idx].plot_abs(func, np.pi / 4)\n",
        "    plt.title('Method #' + str(idx + 1) + ', f(x) = ' + repr(func))\n",
        "    plt.show()"
      ],
      "execution_count": 30,
      "outputs": []
    },
    {
      "cell_type": "code",
      "metadata": {
        "id": "pCain9A16Bhm"
      },
      "source": [
        "# method 1\n",
        "draw_all_funcs(0)"
      ],
      "execution_count": null,
      "outputs": []
    },
    {
      "cell_type": "code",
      "metadata": {
        "id": "_Hm8pCnP6GVw"
      },
      "source": [
        "# method 2\n",
        "draw_all_funcs(1)"
      ],
      "execution_count": null,
      "outputs": []
    },
    {
      "cell_type": "code",
      "metadata": {
        "id": "GK0X_ZBD6JDp"
      },
      "source": [
        "# method 3\n",
        "draw_all_funcs(2)"
      ],
      "execution_count": null,
      "outputs": []
    },
    {
      "cell_type": "code",
      "metadata": {
        "id": "2Kc-UTSv6KRl"
      },
      "source": [
        "# method 4\n",
        "draw_all_funcs(3)"
      ],
      "execution_count": null,
      "outputs": []
    },
    {
      "cell_type": "code",
      "metadata": {
        "id": "n9yt56It6LdP"
      },
      "source": [
        "# method 5\n",
        "draw_all_funcs(4)"
      ],
      "execution_count": null,
      "outputs": []
    }
  ]
}