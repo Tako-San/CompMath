{
 "cells": [
  {
   "cell_type": "markdown",
   "metadata": {},
   "source": [
    "# Вычислительная математика. Домашняя лабораторная работа №4. Тема: \"Интерполяция\".\n",
    "## Выполнил: Хайдари Фарид, группа Б01-909."
   ]
  },
  {
   "cell_type": "code",
   "execution_count": 1,
   "metadata": {},
   "outputs": [],
   "source": [
    "import numpy as np\n",
    "import pandas as pd\n",
    "import matplotlib.pyplot as plt\n",
    "import scipy.interpolate as interp"
   ]
  },
  {
   "cell_type": "markdown",
   "metadata": {},
   "source": [
    "# Определим глобальные константы"
   ]
  },
  {
   "cell_type": "code",
   "execution_count": 2,
   "metadata": {},
   "outputs": [],
   "source": [
    "popUSA = {\n",
    "    1910: 92_228_496,\n",
    "    1920: 106_021_537,\n",
    "    1930: 123_202_624,\n",
    "    1940: 132_164_569,\n",
    "    1950: 151_325_798,\n",
    "    1960: 179_323_175,\n",
    "    1970: 203_211_926,\n",
    "    1980: 226_545_805,\n",
    "    1990: 248_709_873,\n",
    "    2000: 281_421_906\n",
    "}\n",
    "\n",
    "yrs = list(popUSA.keys())\n",
    "pop = list(popUSA.values())\n",
    "\n",
    "popUSA2010 = 308_745_538\n",
    "\n",
    "fsz = (20, 10)\n"
   ]
  },
  {
   "cell_type": "markdown",
   "metadata": {},
   "source": [
    "# Определим функции для интерполяционного полинома в форме Ньютона"
   ]
  },
  {
   "cell_type": "code",
   "execution_count": 3,
   "metadata": {},
   "outputs": [],
   "source": [
    "# Возвращает таблицу разделенных разностей\n",
    "def dividedDiff(x, y):\n",
    "    n = len(y)\n",
    "    coef = np.zeros([n, n])\n",
    "    # the first column is y\n",
    "    coef[:, 0] = y\n",
    "\n",
    "    for j in range(1, n):\n",
    "        for i in range(n-j):\n",
    "            coef[i][j] = (coef[i + 1][j - 1] - coef[i][j - 1]) \\\n",
    "                / (x[i + j] - x[i])\n",
    "\n",
    "    return coef\n",
    "\n",
    "# Возвращает значение полинома ньютона в точке x\n",
    "def newtonPoly(coef, x_data, x):\n",
    "    n = len(x_data) - 1\n",
    "    p = coef[n]\n",
    "    for k in range(1, n + 1):\n",
    "        p = coef[n - k] + (x - x_data[n - k]) * p\n",
    "    return p\n"
   ]
  },
  {
   "cell_type": "markdown",
   "metadata": {},
   "source": [
    "## Построим интерполяционный многочлен в форме Ньютона"
   ]
  },
  {
   "cell_type": "code",
   "execution_count": 4,
   "metadata": {},
   "outputs": [
    {
     "data": {
      "text/html": [
       "<div>\n",
       "<style scoped>\n",
       "    .dataframe tbody tr th:only-of-type {\n",
       "        vertical-align: middle;\n",
       "    }\n",
       "\n",
       "    .dataframe tbody tr th {\n",
       "        vertical-align: top;\n",
       "    }\n",
       "\n",
       "    .dataframe thead th {\n",
       "        text-align: right;\n",
       "    }\n",
       "</style>\n",
       "<table border=\"1\" class=\"dataframe\">\n",
       "  <thead>\n",
       "    <tr style=\"text-align: right;\">\n",
       "      <th></th>\n",
       "      <th>0</th>\n",
       "      <th>1</th>\n",
       "      <th>2</th>\n",
       "      <th>3</th>\n",
       "      <th>4</th>\n",
       "      <th>5</th>\n",
       "      <th>6</th>\n",
       "      <th>7</th>\n",
       "      <th>8</th>\n",
       "      <th>9</th>\n",
       "    </tr>\n",
       "  </thead>\n",
       "  <tbody>\n",
       "    <tr>\n",
       "      <th>0</th>\n",
       "      <td>92228496.0</td>\n",
       "      <td>1379304.1</td>\n",
       "      <td>16940.230</td>\n",
       "      <td>-1934.531333</td>\n",
       "      <td>125.106725</td>\n",
       "      <td>-4.150598</td>\n",
       "      <td>0.080565</td>\n",
       "      <td>-0.000756</td>\n",
       "      <td>-0.000008</td>\n",
       "      <td>5.099328e-07</td>\n",
       "    </tr>\n",
       "    <tr>\n",
       "      <th>1</th>\n",
       "      <td>106021537.0</td>\n",
       "      <td>1718108.7</td>\n",
       "      <td>-41095.710</td>\n",
       "      <td>3069.737667</td>\n",
       "      <td>-82.423175</td>\n",
       "      <td>0.683327</td>\n",
       "      <td>0.027611</td>\n",
       "      <td>-0.001362</td>\n",
       "      <td>0.000038</td>\n",
       "      <td>0.000000e+00</td>\n",
       "    </tr>\n",
       "    <tr>\n",
       "      <th>2</th>\n",
       "      <td>123202624.0</td>\n",
       "      <td>896194.5</td>\n",
       "      <td>50996.420</td>\n",
       "      <td>-227.189333</td>\n",
       "      <td>-48.256825</td>\n",
       "      <td>2.340014</td>\n",
       "      <td>-0.067705</td>\n",
       "      <td>0.001705</td>\n",
       "      <td>0.000000</td>\n",
       "      <td>0.000000e+00</td>\n",
       "    </tr>\n",
       "    <tr>\n",
       "      <th>3</th>\n",
       "      <td>132164569.0</td>\n",
       "      <td>1916122.9</td>\n",
       "      <td>44180.740</td>\n",
       "      <td>-2157.462333</td>\n",
       "      <td>68.743867</td>\n",
       "      <td>-1.722268</td>\n",
       "      <td>0.051623</td>\n",
       "      <td>0.000000</td>\n",
       "      <td>0.000000</td>\n",
       "      <td>0.000000e+00</td>\n",
       "    </tr>\n",
       "    <tr>\n",
       "      <th>4</th>\n",
       "      <td>151325798.0</td>\n",
       "      <td>2799737.7</td>\n",
       "      <td>-20543.130</td>\n",
       "      <td>592.292333</td>\n",
       "      <td>-17.369554</td>\n",
       "      <td>1.375117</td>\n",
       "      <td>0.000000</td>\n",
       "      <td>0.000000</td>\n",
       "      <td>0.000000</td>\n",
       "      <td>0.000000e+00</td>\n",
       "    </tr>\n",
       "    <tr>\n",
       "      <th>5</th>\n",
       "      <td>179323175.0</td>\n",
       "      <td>2388875.1</td>\n",
       "      <td>-2774.360</td>\n",
       "      <td>-102.489833</td>\n",
       "      <td>51.386312</td>\n",
       "      <td>0.000000</td>\n",
       "      <td>0.000000</td>\n",
       "      <td>0.000000</td>\n",
       "      <td>0.000000</td>\n",
       "      <td>0.000000e+00</td>\n",
       "    </tr>\n",
       "    <tr>\n",
       "      <th>6</th>\n",
       "      <td>203211926.0</td>\n",
       "      <td>2333387.9</td>\n",
       "      <td>-5849.055</td>\n",
       "      <td>1952.962667</td>\n",
       "      <td>0.000000</td>\n",
       "      <td>0.000000</td>\n",
       "      <td>0.000000</td>\n",
       "      <td>0.000000</td>\n",
       "      <td>0.000000</td>\n",
       "      <td>0.000000e+00</td>\n",
       "    </tr>\n",
       "    <tr>\n",
       "      <th>7</th>\n",
       "      <td>226545805.0</td>\n",
       "      <td>2216406.8</td>\n",
       "      <td>52739.825</td>\n",
       "      <td>0.000000</td>\n",
       "      <td>0.000000</td>\n",
       "      <td>0.000000</td>\n",
       "      <td>0.000000</td>\n",
       "      <td>0.000000</td>\n",
       "      <td>0.000000</td>\n",
       "      <td>0.000000e+00</td>\n",
       "    </tr>\n",
       "    <tr>\n",
       "      <th>8</th>\n",
       "      <td>248709873.0</td>\n",
       "      <td>3271203.3</td>\n",
       "      <td>0.000</td>\n",
       "      <td>0.000000</td>\n",
       "      <td>0.000000</td>\n",
       "      <td>0.000000</td>\n",
       "      <td>0.000000</td>\n",
       "      <td>0.000000</td>\n",
       "      <td>0.000000</td>\n",
       "      <td>0.000000e+00</td>\n",
       "    </tr>\n",
       "    <tr>\n",
       "      <th>9</th>\n",
       "      <td>281421906.0</td>\n",
       "      <td>0.0</td>\n",
       "      <td>0.000</td>\n",
       "      <td>0.000000</td>\n",
       "      <td>0.000000</td>\n",
       "      <td>0.000000</td>\n",
       "      <td>0.000000</td>\n",
       "      <td>0.000000</td>\n",
       "      <td>0.000000</td>\n",
       "      <td>0.000000e+00</td>\n",
       "    </tr>\n",
       "  </tbody>\n",
       "</table>\n",
       "</div>"
      ],
      "text/plain": [
       "             0          1          2            3           4         5  \\\n",
       "0   92228496.0  1379304.1  16940.230 -1934.531333  125.106725 -4.150598   \n",
       "1  106021537.0  1718108.7 -41095.710  3069.737667  -82.423175  0.683327   \n",
       "2  123202624.0   896194.5  50996.420  -227.189333  -48.256825  2.340014   \n",
       "3  132164569.0  1916122.9  44180.740 -2157.462333   68.743867 -1.722268   \n",
       "4  151325798.0  2799737.7 -20543.130   592.292333  -17.369554  1.375117   \n",
       "5  179323175.0  2388875.1  -2774.360  -102.489833   51.386312  0.000000   \n",
       "6  203211926.0  2333387.9  -5849.055  1952.962667    0.000000  0.000000   \n",
       "7  226545805.0  2216406.8  52739.825     0.000000    0.000000  0.000000   \n",
       "8  248709873.0  3271203.3      0.000     0.000000    0.000000  0.000000   \n",
       "9  281421906.0        0.0      0.000     0.000000    0.000000  0.000000   \n",
       "\n",
       "          6         7         8             9  \n",
       "0  0.080565 -0.000756 -0.000008  5.099328e-07  \n",
       "1  0.027611 -0.001362  0.000038  0.000000e+00  \n",
       "2 -0.067705  0.001705  0.000000  0.000000e+00  \n",
       "3  0.051623  0.000000  0.000000  0.000000e+00  \n",
       "4  0.000000  0.000000  0.000000  0.000000e+00  \n",
       "5  0.000000  0.000000  0.000000  0.000000e+00  \n",
       "6  0.000000  0.000000  0.000000  0.000000e+00  \n",
       "7  0.000000  0.000000  0.000000  0.000000e+00  \n",
       "8  0.000000  0.000000  0.000000  0.000000e+00  \n",
       "9  0.000000  0.000000  0.000000  0.000000e+00  "
      ]
     },
     "execution_count": 4,
     "metadata": {},
     "output_type": "execute_result"
    }
   ],
   "source": [
    "newtonCoeffsTable = dividedDiff(yrs, pop)\n",
    "newtonCoeffs = newtonCoeffsTable[0, :]\n",
    "\n",
    "pd.DataFrame(newtonCoeffsTable) # распечатаем таблицу коэффициентов"
   ]
  },
  {
   "cell_type": "code",
   "execution_count": 5,
   "metadata": {},
   "outputs": [
    {
     "data": {
      "image/png": "[encoded data removed]",
      "text/plain": [
       "<Figure size 1440x720 with 1 Axes>"
      ]
     },
     "metadata": {
      "needs_background": "light"
     },
     "output_type": "display_data"
    }
   ],
   "source": [
    "x1 = np.arange(yrs[0] - 10, yrs[-1] + 11, 1) # from 1900 to 2010\n",
    "y1 = newtonPoly(newtonCoeffs, yrs, x1)\n",
    "\n",
    "plt.figure(figsize=fsz)\n",
    "plt.xlabel('Year')\n",
    "plt.ylabel('Population')\n",
    "plt.ylim((0, 9e8))\n",
    "plt.grid()\n",
    "\n",
    "plt.plot(yrs, pop, 'bo', label='Имеющиеся данные')\n",
    "plt.plot(x1, y1, label='Полином Ньютона')\n",
    "\n",
    "plt.legend()\n",
    "plt.show()"
   ]
  },
  {
   "cell_type": "markdown",
   "metadata": {},
   "source": [
    "## Рассчитаем население США на 2010 год с помощью полученного интерполяционного полинома.\n",
    "## Сравним с реальными значениями"
   ]
  },
  {
   "cell_type": "code",
   "execution_count": 6,
   "metadata": {},
   "outputs": [
    {
     "name": "stdout",
     "output_type": "stream",
     "text": [
      "Вычисленное население США в 2010: 827,906,509\n",
      "Реальное население США в 2010:    308,745,538\n"
     ]
    }
   ],
   "source": [
    "calcPop1 = int(y1[2010 - (yrs[0] - 10)])\n",
    "print(f'Вычисленное население США в 2010: {calcPop1:,}')\n",
    "print(f'Реальное население США в 2010:    {popUSA2010:,}')\n"
   ]
  },
  {
   "cell_type": "markdown",
   "metadata": {},
   "source": [
    "# Определим методы для построения сплайн интерполяции"
   ]
  },
  {
   "cell_type": "code",
   "execution_count": 7,
   "metadata": {},
   "outputs": [],
   "source": [
    "class Spline:\n",
    "    def __init__(self, a, b, c, d, x):\n",
    "        self.a = a\n",
    "        self.b = b\n",
    "        self.c = c\n",
    "        self.d = d\n",
    "        self.x = x # узел сетки\n",
    "\n",
    "\n",
    "def solveSystem(splines, x, y):\n",
    "    assert len(x) == len(y), 'x and y should have same length'\n",
    "    n = len(x)\n",
    "\n",
    "    # Решение СЛАУ относительно коэффициентов сплайнов c[i]. Прямой ход\n",
    "    alpha = [0.0 for i in range(0, n - 1)]\n",
    "    beta = [0.0 for i in range(0, n - 1)]\n",
    "\n",
    "    for i in range(1, n - 1):\n",
    "        hi = x[i] - x[i - 1]\n",
    "        hi1 = x[i + 1] - x[i]\n",
    "        A = hi\n",
    "        C = 2.0 * (hi + hi1)\n",
    "        B = hi1\n",
    "        F = 6.0 * ((y[i + 1] - y[i]) / hi1 - (y[i] - y[i - 1]) / hi)\n",
    "        z = (A * alpha[i - 1] + C)\n",
    "        alpha[i] = -B / z\n",
    "        beta[i] = (F - A * beta[i - 1]) / z\n",
    "\n",
    "    # Обратный ход\n",
    "    for i in range(n - 2, 0, -1):\n",
    "        splines[i].c = alpha[i] * splines[i + 1].c + beta[i]\n",
    "\n",
    "    return splines\n",
    "\n",
    "\n",
    "def buildSpline(x, y):\n",
    "    assert len(x) == len(y), 'x and y should have same length'\n",
    "    n = len(x)\n",
    "\n",
    "    splines = [Spline(0, 0, 0, 0, 0) for i in range(0, n)]\n",
    "    for i in range(0, n):\n",
    "        splines[i].x = x[i]\n",
    "        splines[i].a = y[i]\n",
    "\n",
    "    # Задаём доп условие\n",
    "    splines[0].c = splines[n - 1].c = 0.0\n",
    "    splines = solveSystem(splines, x, y)\n",
    "\n",
    "    # По известным коэффициентам c[i] находим значения b[i] и d[i]\n",
    "    for i in range(n - 1, 0, -1):\n",
    "        hi = x[i] - x[i - 1]\n",
    "        splines[i].d = (splines[i].c - splines[i - 1].c) / hi\n",
    "        splines[i].b = hi * (2.0 * splines[i].c +\n",
    "                             splines[i - 1].c) / 6.0 + (y[i] - y[i - 1]) / hi\n",
    "    return splines\n",
    "\n",
    "\n",
    "# Бин. поиск нужного отрезка\n",
    "def findInterval(splines, x):\n",
    "    n = len(splines)\n",
    "    i = 0\n",
    "    j = n - 1\n",
    "\n",
    "    while i + 1 < j:\n",
    "        k = i + (j - i) // 2\n",
    "        if x <= splines[k].x:\n",
    "            j = k\n",
    "        else:\n",
    "            i = k\n",
    "\n",
    "    return splines[j]\n",
    "\n",
    "\n",
    "# Вычисление значения интерполированной функции в произвольной точке\n",
    "def interpolate(splines, x):\n",
    "    assert splines, 'splines is not built'\n",
    "\n",
    "    n = len(splines)\n",
    "    s = Spline(0, 0, 0, 0, 0)\n",
    "\n",
    "    if x <= splines[0].x:  # Если x меньше x[0] - берем первый элемент массива\n",
    "        s = splines[0]\n",
    "    elif x >= splines[n - 1].x:  # Если x больше x[n - 1] - берем последний\n",
    "        s = splines[n - 1]\n",
    "    else:  # Иначе ищем где x бин. поиском\n",
    "        s = findInterval(splines, x)\n",
    "\n",
    "    dx = x - s.x\n",
    "    # Вычисляем значение сплайна в заданной точке по схеме Горнера\n",
    "    return s.a + (s.b + (s.c / 2.0 + s.d * dx / 6.0) * dx) * dx\n"
   ]
  },
  {
   "cell_type": "code",
   "execution_count": 8,
   "metadata": {},
   "outputs": [
    {
     "data": {
      "image/png": "[encoded data removed]",
      "text/plain": [
       "<Figure size 1440x720 with 1 Axes>"
      ]
     },
     "metadata": {
      "needs_background": "light"
     },
     "output_type": "display_data"
    }
   ],
   "source": [
    "spline = buildSpline(yrs, pop)\n",
    "\n",
    "x2 = x1\n",
    "y2 = [interpolate(spline, x) for x in x2]\n",
    "\n",
    "plt.figure(figsize=fsz)\n",
    "plt.xlabel('Year')\n",
    "plt.ylabel('Population')\n",
    "plt.ylim((0, 9e8))\n",
    "plt.grid()\n",
    "\n",
    "plt.plot(yrs, pop, 'bo', label='Имеющиеся данные')\n",
    "plt.plot(x2, y2, 'b', label='Сплайн интерполянт')\n",
    "plt.plot(x1, y1, 'lightskyblue', label='Полином Ньютона')\n",
    "\n",
    "plt.legend()\n",
    "plt.show()\n"
   ]
  },
  {
   "cell_type": "markdown",
   "metadata": {},
   "source": [
    "## Рассчитаем население США на 2010 год с помощью полученного интерполяционного полинома.\n",
    "## Сравним с реальными значениями"
   ]
  },
  {
   "cell_type": "code",
   "execution_count": 9,
   "metadata": {},
   "outputs": [
    {
     "name": "stdout",
     "output_type": "stream",
     "text": [
      "Вычисленное население США в 2010: 314,133,939\n",
      "Реальное население США в 2010:    308,745,538\n"
     ]
    }
   ],
   "source": [
    "calcPop2 = int(y2[2010 - (yrs[0] - 10)])\n",
    "print(f'Вычисленное население США в 2010: {calcPop2:,}')\n",
    "print(f'Реальное население США в 2010:    {popUSA2010:,}')"
   ]
  },
  {
   "cell_type": "markdown",
   "metadata": {},
   "source": [
    "## Проверим результаты нашей сплайн-интерполяции с помощью numpy"
   ]
  },
  {
   "cell_type": "code",
   "execution_count": 10,
   "metadata": {},
   "outputs": [
    {
     "data": {
      "image/png": "[encoded data removed]",
      "text/plain": [
       "<Figure size 1440x720 with 1 Axes>"
      ]
     },
     "metadata": {
      "needs_background": "light"
     },
     "output_type": "display_data"
    }
   ],
   "source": [
    "f = interp.interp1d(yrs, pop, fill_value='extrapolate')\n",
    "\n",
    "x3 = x1\n",
    "y3 = f(x3)\n",
    "\n",
    "plt.figure(figsize=fsz)\n",
    "plt.xlabel('Year')\n",
    "plt.ylabel('Population')\n",
    "plt.ylim((0, 9e8))\n",
    "plt.grid()\n",
    "\n",
    "plt.plot(yrs, pop, 'bo', label='Имеющиеся данные')\n",
    "plt.plot(x3, y3, 'b', label='Сплайн интерполянт numpy')\n",
    "plt.plot(x1, y1, 'lightskyblue', label='Полином Ньютона')\n",
    "\n",
    "plt.legend()\n",
    "plt.show()"
   ]
  },
  {
   "cell_type": "code",
   "execution_count": 11,
   "metadata": {},
   "outputs": [
    {
     "name": "stdout",
     "output_type": "stream",
     "text": [
      "Вычисленное население США в 2010: 314,133,939\n",
      "Реальное население США в 2010:    308,745,538\n"
     ]
    }
   ],
   "source": [
    "calcPop3 = int(y3[2010 - (yrs[0] - 10)])\n",
    "print(f'Вычисленное население США в 2010: {calcPop3:,}')\n",
    "print(f'Реальное население США в 2010:    {popUSA2010:,}')"
   ]
  }
 ],
 "metadata": {
  "interpreter": {
   "hash": "31f2aee4e71d21fbe5cf8b01ff0e069b9275f58929596ceb00d14d90e3e16cd6"
  },
  "kernelspec": {
   "display_name": "Python 3.8.10 64-bit",
   "language": "python",
   "name": "python3"
  },
  "language_info": {
   "codemirror_mode": {
    "name": "ipython",
    "version": 3
   },
   "file_extension": ".py",
   "mimetype": "text/x-python",
   "name": "python",
   "nbconvert_exporter": "python",
   "pygments_lexer": "ipython3",
   "version": "3.8.10"
  },
  "orig_nbformat": 4
 },
 "nbformat": 4,
 "nbformat_minor": 2
}
